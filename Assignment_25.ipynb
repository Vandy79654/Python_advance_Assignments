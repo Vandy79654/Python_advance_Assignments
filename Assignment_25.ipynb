{
 "cells": [
  {
   "cell_type": "markdown",
   "metadata": {},
   "source": [
    "Q1. What is the distinction between a numpy array and a pandas data frame? Is there a way to convert between the two if there is ?\n",
    "Ans: Numpy Ndarray provides a lot of convenient and optimized methods for performing several mathematical operations on vectors.\n",
    "\n",
    "Pandas Dataframe is an in-memory 2-dimensional tabular representation of data. In simpler words, it can be seen as a spreadsheet having rows and columns.\n",
    "\n",
    "Conversion : Dataframe=pandas.DataFrame(array)"
   ]
  },
  {
   "cell_type": "markdown",
   "metadata": {},
   "source": [
    "Q2. What can go wrong when an user enters in a stock-ticker symbol, and how do you handle it?\n",
    "Ans:When a user enters a stock ticker symbol, several things can go wrong. Here are some common issues that can occur and potential ways to handle them:\n",
    "\n",
    "1.Invalid Ticker Symbol: The user may enter an invalid or non-existent stock ticker symbol. To handle this, you can implement a validation mechanism that checks the entered symbol against a database or an API that provides a list of valid ticker symbols. If the entered symbol is invalid, you can display an error message to the user indicating that the symbol is not recognized.\n",
    "\n",
    "2.Case Sensitivity: Ticker symbols are often case sensitive, so the user's input may need to match the exact casing. To handle this, you can normalize the input by converting it to uppercase or lowercase before performing any comparisons or lookups.\n",
    "\n",
    "3.Network Connectivity Issues: When fetching stock data or related information from an external source (such as an API), network connectivity issues can occur. To handle this, you can implement error handling mechanisms that display a message to the user indicating a network issue or try to retry the request after a certain period.\n",
    "\n",
    "4.Data Unavailability or Delay: Stock data may not be available or may have a delay due to various factors, such as server issues or data provider limitations. In such cases, you can inform the user about the unavailability or delay and provide alternative actions, such as retrying later or displaying cached data if available."
   ]
  },
  {
   "cell_type": "code",
   "execution_count": null,
   "metadata": {},
   "outputs": [],
   "source": [
    "Q3. Identify some of the plotting techniques that are used to produce a stock-market chart ?\n",
    "Ans: Bar chart, Line Chart are used for plotting."
   ]
  },
  {
   "cell_type": "markdown",
   "metadata": {},
   "source": [
    "Q4. Why is it essential to print a legend on a stock market chart ?\n",
    "Ans: Legend will help comparison between different stocks, so will be essential on a stock market chart"
   ]
  },
  {
   "cell_type": "markdown",
   "metadata": {},
   "source": [
    "Q5. What is the best way to limit the length of a pandas data frame to less than a year ?\n",
    "Ans: : We can use start and end parameters for that. In start we write the date from where we are starting and at the end we write the end date. SO within this span we can restric the duration.Also we can use the parameters like periods for how much times we need the duration and we can also use the frequency parameter."
   ]
  },
  {
   "cell_type": "markdown",
   "metadata": {},
   "source": [
    "Q6. What is the definition of a 180-day moving average ?\n",
    "Ans: : The 180-day moving average is represented as a line on charts and represents the average price over the past 180 days. The moving average can give traders a sense regarding whether the trend is up or down, while also identifying potential support or resistance areas."
   ]
  },
  {
   "cell_type": "markdown",
   "metadata": {},
   "source": [
    "Q7.Did the chapter's final example use \"indirect\" importing? If so, how exactly do you do it?\n",
    "Ans:"
   ]
  }
 ],
 "metadata": {
  "kernelspec": {
   "display_name": "Python 3",
   "language": "python",
   "name": "python3"
  },
  "language_info": {
   "codemirror_mode": {
    "name": "ipython",
    "version": 3
   },
   "file_extension": ".py",
   "mimetype": "text/x-python",
   "name": "python",
   "nbconvert_exporter": "python",
   "pygments_lexer": "ipython3",
   "version": "3.8.5"
  }
 },
 "nbformat": 4,
 "nbformat_minor": 4
}
